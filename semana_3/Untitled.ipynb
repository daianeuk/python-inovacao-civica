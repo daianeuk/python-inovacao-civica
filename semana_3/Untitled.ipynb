{
 "cells": [
  {
   "cell_type": "code",
   "execution_count": 23,
   "id": "7fa9f3f8-2c5e-48e8-92e7-368f21ad5d40",
   "metadata": {},
   "outputs": [],
   "source": [
    "import requests "
   ]
  },
  {
   "cell_type": "code",
   "execution_count": 26,
   "id": "5dc7b909-6ad4-4fd7-9252-adc7778dc52a",
   "metadata": {},
   "outputs": [],
   "source": [
    "url = 'http://www.camara.leg.br/cotas/Ano-2019.csv.zip'\n",
    "r = requests.get(url)"
   ]
  },
  {
   "cell_type": "code",
   "execution_count": 27,
   "id": "279a79a8-cede-4cf6-b5f0-70fab2d855a6",
   "metadata": {},
   "outputs": [
    {
     "data": {
      "text/plain": [
       "200"
      ]
     },
     "execution_count": 27,
     "metadata": {},
     "output_type": "execute_result"
    }
   ],
   "source": [
    "r.status_code #status da requisição"
   ]
  },
  {
   "cell_type": "code",
   "execution_count": 28,
   "id": "cb7cfb82-9592-4fbb-96ad-335e4b949aed",
   "metadata": {},
   "outputs": [],
   "source": [
    "file = open(\"Ano-2019.csv.zip\", \"wb\") # write, bytes\n",
    "file.write(r.content) #escrever o conteúdo no arquivo\n",
    "file.close() #fecha o arquivo "
   ]
  },
  {
   "cell_type": "code",
   "execution_count": 29,
   "id": "b0beedfb-85e3-4be2-87db-404e31b4d2c2",
   "metadata": {},
   "outputs": [],
   "source": [
    "from zipfile import ZipFile # trabalha com arquivos zipados \n",
    "\n",
    "zipfile = ZipFile('Ano-2019.csv.zip', 'r')"
   ]
  },
  {
   "cell_type": "code",
   "execution_count": 31,
   "id": "d70c1b51-6511-4b2b-b4b9-8b2c8b301dd3",
   "metadata": {},
   "outputs": [
    {
     "ename": "NotRarFile",
     "evalue": "Not a RAR file",
     "output_type": "error",
     "traceback": [
      "\u001b[1;31m---------------------------------------------------------------------------\u001b[0m",
      "\u001b[1;31mNotRarFile\u001b[0m                                Traceback (most recent call last)",
      "\u001b[1;32m<ipython-input-31-50846de15279>\u001b[0m in \u001b[0;36m<module>\u001b[1;34m\u001b[0m\n\u001b[0;32m      2\u001b[0m \u001b[0mRarFile\u001b[0m\u001b[1;33m.\u001b[0m\u001b[0mUNRAR_TOOL\u001b[0m\u001b[1;33m=\u001b[0m\u001b[1;34m'C:/Users/daniu/Downloads/UnRARDLL.exe'\u001b[0m\u001b[1;33m\u001b[0m\u001b[1;33m\u001b[0m\u001b[0m\n\u001b[0;32m      3\u001b[0m \u001b[1;33m\u001b[0m\u001b[0m\n\u001b[1;32m----> 4\u001b[1;33m \u001b[1;32mwith\u001b[0m \u001b[0mRarFile\u001b[0m\u001b[1;33m(\u001b[0m\u001b[1;34m'Ano-2019.csv.zip'\u001b[0m\u001b[1;33m)\u001b[0m \u001b[1;32mas\u001b[0m \u001b[0mfile\u001b[0m\u001b[1;33m:\u001b[0m\u001b[1;33m\u001b[0m\u001b[1;33m\u001b[0m\u001b[0m\n\u001b[0m\u001b[0;32m      5\u001b[0m     \u001b[0mfile\u001b[0m\u001b[1;33m.\u001b[0m\u001b[0mextract\u001b[0m\u001b[1;33m(\u001b[0m\u001b[0mfile\u001b[0m\u001b[1;33m.\u001b[0m\u001b[0mnamelist\u001b[0m\u001b[1;33m(\u001b[0m\u001b[1;33m)\u001b[0m\u001b[1;33m[\u001b[0m\u001b[1;36m0\u001b[0m\u001b[1;33m]\u001b[0m\u001b[1;33m)\u001b[0m\u001b[1;33m\u001b[0m\u001b[1;33m\u001b[0m\u001b[0m\n",
      "\u001b[1;32m~\\anaconda3\\lib\\site-packages\\rarfile.py\u001b[0m in \u001b[0;36m__init__\u001b[1;34m(self, file, mode, charset, info_callback, crc_check, errors)\u001b[0m\n\u001b[0;32m    687\u001b[0m             \u001b[1;32mraise\u001b[0m \u001b[0mNotImplementedError\u001b[0m\u001b[1;33m(\u001b[0m\u001b[1;34m\"RarFile supports only mode=r\"\u001b[0m\u001b[1;33m)\u001b[0m\u001b[1;33m\u001b[0m\u001b[1;33m\u001b[0m\u001b[0m\n\u001b[0;32m    688\u001b[0m \u001b[1;33m\u001b[0m\u001b[0m\n\u001b[1;32m--> 689\u001b[1;33m         \u001b[0mself\u001b[0m\u001b[1;33m.\u001b[0m\u001b[0m_parse\u001b[0m\u001b[1;33m(\u001b[0m\u001b[1;33m)\u001b[0m\u001b[1;33m\u001b[0m\u001b[1;33m\u001b[0m\u001b[0m\n\u001b[0m\u001b[0;32m    690\u001b[0m \u001b[1;33m\u001b[0m\u001b[0m\n\u001b[0;32m    691\u001b[0m     \u001b[1;32mdef\u001b[0m \u001b[0m__enter__\u001b[0m\u001b[1;33m(\u001b[0m\u001b[0mself\u001b[0m\u001b[1;33m)\u001b[0m\u001b[1;33m:\u001b[0m\u001b[1;33m\u001b[0m\u001b[1;33m\u001b[0m\u001b[0m\n",
      "\u001b[1;32m~\\anaconda3\\lib\\site-packages\\rarfile.py\u001b[0m in \u001b[0;36m_parse\u001b[1;34m(self)\u001b[0m\n\u001b[0;32m    889\u001b[0m             \u001b[0mself\u001b[0m\u001b[1;33m.\u001b[0m\u001b[0m_file_parser\u001b[0m \u001b[1;33m=\u001b[0m \u001b[0mp5\u001b[0m  \u001b[1;31m# noqa\u001b[0m\u001b[1;33m\u001b[0m\u001b[1;33m\u001b[0m\u001b[0m\n\u001b[0;32m    890\u001b[0m         \u001b[1;32melse\u001b[0m\u001b[1;33m:\u001b[0m\u001b[1;33m\u001b[0m\u001b[1;33m\u001b[0m\u001b[0m\n\u001b[1;32m--> 891\u001b[1;33m             \u001b[1;32mraise\u001b[0m \u001b[0mNotRarFile\u001b[0m\u001b[1;33m(\u001b[0m\u001b[1;34m\"Not a RAR file\"\u001b[0m\u001b[1;33m)\u001b[0m\u001b[1;33m\u001b[0m\u001b[1;33m\u001b[0m\u001b[0m\n\u001b[0m\u001b[0;32m    892\u001b[0m \u001b[1;33m\u001b[0m\u001b[0m\n\u001b[0;32m    893\u001b[0m         \u001b[0mself\u001b[0m\u001b[1;33m.\u001b[0m\u001b[0m_file_parser\u001b[0m\u001b[1;33m.\u001b[0m\u001b[0mparse\u001b[0m\u001b[1;33m(\u001b[0m\u001b[1;33m)\u001b[0m\u001b[1;33m\u001b[0m\u001b[1;33m\u001b[0m\u001b[0m\n",
      "\u001b[1;31mNotRarFile\u001b[0m: Not a RAR file"
     ]
    }
   ],
   "source": [
    "from rarfile import RarFile\n",
    "RarFile.UNRAR_TOOL='C:/Users/daniu/Downloads/UnRARDLL.exe'\n",
    "\n",
    "with RarFile('Ano-2019.csv.zip') as file:\n",
    "    file.extract(file.namelist()[0])"
   ]
  },
  {
   "cell_type": "code",
   "execution_count": null,
   "id": "8c38f81a-3c93-4d79-ac08-c609ec1c162f",
   "metadata": {},
   "outputs": [],
   "source": []
  }
 ],
 "metadata": {
  "kernelspec": {
   "display_name": "Python 3",
   "language": "python",
   "name": "python3"
  },
  "language_info": {
   "codemirror_mode": {
    "name": "ipython",
    "version": 3
   },
   "file_extension": ".py",
   "mimetype": "text/x-python",
   "name": "python",
   "nbconvert_exporter": "python",
   "pygments_lexer": "ipython3",
   "version": "3.8.8"
  },
  "toc-autonumbering": true
 },
 "nbformat": 4,
 "nbformat_minor": 5
}
