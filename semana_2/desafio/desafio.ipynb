{
 "cells": [
  {
   "cell_type": "markdown",
   "id": "2e6c6ea0",
   "metadata": {},
   "source": [
    "# Limpeza de dados e estatística descritiva\n",
    "\n",
    "Neste desafio, iremos revisar alguns conceitos vistos nas aulas e ver algumas novidades. Os dados originais são do [repositório de dados eleitorais do Tribunal Superior Eleitoral](https://www.tse.jus.br/eleicoes/estatisticas/repositorio-de-dados-eleitorais-1). \n",
    "\n",
    "O CSV disponibilizado é formado pela conjunção de algumas tabelas do arquivo [orgao_partidario.zip](https://cdn.tse.jus.br/estatistica/sead/odsele/orgao_partidario/orgao_partidario.zip), localizado no menu Partidos > Órgão Partidário.\n",
    "\n",
    "Preencha as lacunas abaixo para completar o desafio."
   ]
  },
  {
   "cell_type": "markdown",
   "id": "0725d306",
   "metadata": {},
   "source": [
    "# Importe os pacotes necessários"
   ]
  },
  {
   "cell_type": "code",
   "execution_count": 2,
   "id": "9d9d312c",
   "metadata": {},
   "outputs": [],
   "source": [
    "import pandas as __\n",
    "import numpy as np"
   ]
  },
  {
   "cell_type": "markdown",
   "id": "305a477f",
   "metadata": {},
   "source": [
    "# Leia o arquivo \"receitas_orgaos_partidarios_2020_NORDESTE.csv\" usando o Pandas\n",
    "\n",
    "Na aula `1.10 - Outliers e valores faltantes`, vimos como utilizar o método `replace` para substituir valores em certos colunas do nosso dataframe e trocar o texto (string) `#NULO#` pela representação padrão do Pandas para valores nulos.\n",
    "\n",
    "Aqui, vamos utilizar um outro método, onde definimos quais strings serão considerados valores nulos já na importação do arquivo.\n",
    "\n",
    "Edite as células abaixo e inclua:\n",
    "\n",
    "* O nome do arquivo que queremos importar\n",
    "* O separador utilizado\n",
    "* Insira uma lista no parâmetro `na_values` que contenha o texto a ser ignorado.\n",
    "\n",
    "Experimente rodar os comandos primeiro sem e depois com o parâmetro `na_values`, então, compare a diferença. Observe, por exemplo, o campo `CD_CNAE_DOADOR`."
   ]
  },
  {
   "cell_type": "code",
   "execution_count": null,
   "id": "93efc354",
   "metadata": {},
   "outputs": [],
   "source": [
    "df = pd.read_csv(______,sep=__)\n",
    "\n",
    "df.info()"
   ]
  },
  {
   "cell_type": "code",
   "execution_count": null,
   "id": "344396d6",
   "metadata": {},
   "outputs": [],
   "source": [
    "df = pd.read_csv(______,sep=____,na_values=____)\n",
    "\n",
    "df.info()"
   ]
  },
  {
   "cell_type": "markdown",
   "id": "f471c6b1",
   "metadata": {},
   "source": [
    "# Filtre apenas os registros que sejam da prestação de contas final\n"
   ]
  },
  {
   "cell_type": "code",
   "execution_count": null,
   "id": "48a0762a",
   "metadata": {},
   "outputs": [],
   "source": [
    "# Primeiro vamos ver os valores únicos da coluna TP_PRESTACAO_CONTAS\n",
    "\n",
    "df[_____].unique()"
   ]
  },
  {
   "cell_type": "code",
   "execution_count": null,
   "id": "3bd26e80",
   "metadata": {},
   "outputs": [],
   "source": [
    "# O resultado deste comando nos diz que quantas linhas e colunas temos antes do filtro\n",
    "df.shape"
   ]
  },
  {
   "cell_type": "code",
   "execution_count": 7,
   "id": "3158d6d9",
   "metadata": {},
   "outputs": [],
   "source": [
    "# Preencha o campo os espaços abaixo com o nome da coluna e o valor desejado para nosso filtro\n",
    "df_final = df[df[_____] == __________].copy()"
   ]
  },
  {
   "cell_type": "code",
   "execution_count": null,
   "id": "cabb2174",
   "metadata": {},
   "outputs": [],
   "source": [
    "# Rode o comando shape no novo dataframe criado e confira se o número de linhas foi reduzido\n",
    "\n"
   ]
  },
  {
   "cell_type": "markdown",
   "id": "c82d83d4",
   "metadata": {},
   "source": [
    "## Qual foi a maior doação de pessoa física e pessoa jurídica em cada estado?\n",
    "\n",
    "Vamos usar o método `value_counts` para não só listar cada valor único da coluna `CD_CNAE_DOADOR`, como também mostrar quantos registros temos em cada um."
   ]
  },
  {
   "cell_type": "code",
   "execution_count": null,
   "id": "a4fc2e93",
   "metadata": {},
   "outputs": [],
   "source": [
    "# Preencha o nome da coluna abaixo\n",
    "df_final[________].value_counts()"
   ]
  },
  {
   "cell_type": "code",
   "execution_count": null,
   "id": "8754be9f",
   "metadata": {},
   "outputs": [],
   "source": [
    "# Para ver os resultados em percentuais é fácil! Basta falarmos para o value_counts que queremos os resultados normalizados\n",
    "df_final[_____].value_counts(normalize=True)"
   ]
  },
  {
   "cell_type": "markdown",
   "id": "a5466ed0",
   "metadata": {},
   "source": [
    "Se o doador for pessoa jurídica, temos seu respectivo código CNAE. Se for pessoa física, então temos o valor `-1`. \n",
    "\n",
    "Qual conclusão podemos tirar a respeito dos comandos acima?\n",
    "\n",
    "Escreva um **comentário** na célula abaixo com a resposta."
   ]
  },
  {
   "cell_type": "code",
   "execution_count": 11,
   "id": "f23a117d",
   "metadata": {},
   "outputs": [],
   "source": [
    "# Mais da metade dos registros são de pessoas físicas."
   ]
  },
  {
   "cell_type": "markdown",
   "id": "f23385dc",
   "metadata": {},
   "source": [
    "Agora, vamos duplicar a coluna `CD_CNAE_DOADOR` e deixar esta nova coluna apenas com 2 categorias: física (representada pelo valor -1) ou jurídica (que vamos representar inicialmente com 1)."
   ]
  },
  {
   "cell_type": "code",
   "execution_count": null,
   "id": "0772ab33",
   "metadata": {},
   "outputs": [],
   "source": [
    "# Vamos criar uma nova coluna que seja uma cópia exata da coluna CD_CNAE_DOADOR\n",
    "df_final['TIPO_DOADOR'] = df_final[_______]\n"
   ]
  },
  {
   "cell_type": "markdown",
   "id": "2ff75dc6",
   "metadata": {},
   "source": [
    "## Substituição condicional (conditional replacing)\n",
    "\n",
    "Agora, vamos usar o método where do pacote NumPy (carinhosamente chamado de np abaixo).\n",
    "\n",
    "Esta função recebe três parâmetros:\n",
    "\n",
    "* Uma condição: no nosso caso, queremos que filtrar as coluna do CNAE onde os valores sejam -1\n",
    "* Um valor: caso a condição acima seja verdadeira, qual valor deverá ser retornado?\n",
    "* Outro valor: se a condição for falsa, então, qual outro valor deverá ser retornado?\n"
   ]
  },
  {
   "cell_type": "code",
   "execution_count": null,
   "id": "d21e9c48",
   "metadata": {},
   "outputs": [],
   "source": [
    "df_final['TIPO_DOADOR'] = np.where(df_final[______]==___, 'fisica', 'juridica')"
   ]
  },
  {
   "cell_type": "markdown",
   "id": "f5df5859",
   "metadata": {},
   "source": [
    "## Agrupando (group by)"
   ]
  },
  {
   "cell_type": "code",
   "execution_count": null,
   "id": "5aef9e8a",
   "metadata": {},
   "outputs": [],
   "source": [
    "# Preencha abaixo primeiro uma lista com as 3 colunas que precisamos utilizar para responder à pergunta. E depois o nome das 2 colunas que precisamos agrupar.\n",
    "\n",
    "df_final[______].groupby(by=______).max()"
   ]
  },
  {
   "cell_type": "code",
   "execution_count": 1,
   "id": "91aa85ec",
   "metadata": {},
   "outputs": [],
   "source": [
    "# Para repetir o valor da coluna TIPO_DOADOR nas linhas, coloque o parâmetro as_index=False no método groupby do comando acima\n",
    "\n"
   ]
  },
  {
   "cell_type": "markdown",
   "id": "9eb88c82",
   "metadata": {},
   "source": [
    "## Qual o total de doações recebidas por partido?"
   ]
  },
  {
   "cell_type": "code",
   "execution_count": null,
   "id": "992cbf6d",
   "metadata": {},
   "outputs": [],
   "source": [
    "df_final[__________].groupby(by=_____).___()"
   ]
  },
  {
   "cell_type": "markdown",
   "id": "5ad68262",
   "metadata": {},
   "source": [
    "## Qual é o top 10?\n",
    "\n",
    "Crie um novo dataframe com os 10 partidos com mais doações. Você precisa primeiro ordenar os resultados e depois selecionar apenas os 10 primeiros.\n",
    "\n"
   ]
  },
  {
   "cell_type": "code",
   "execution_count": null,
   "id": "bc355864",
   "metadata": {},
   "outputs": [],
   "source": [
    "df_final[__________].groupby(by=_____).___().sort_values(by='____',ascending=______).head(___)"
   ]
  },
  {
   "cell_type": "markdown",
   "id": "42eeb531",
   "metadata": {},
   "source": [
    "# Vamos visualizar os resultados?\n",
    "Na aula, nós vimos como usar o matplotlib para gerar gráficos. Agora, vamos descobrir uma nova forma de fazer o mesmo usando um método nativo Pandas. Experimente colocar `.plot(kind='barh')` após a consulta ou dataframe anterior.\n",
    "\n",
    "Com este comando, podemos produzir um gráfico (plot) do tipo (kind) de barras horizontais (barh)."
   ]
  },
  {
   "cell_type": "code",
   "execution_count": null,
   "id": "fada13ea",
   "metadata": {},
   "outputs": [],
   "source": [
    "df_final[__________].groupby(by=_____).___().sort_values(by='____',ascending=______).head(___).plot(kind='barh')"
   ]
  },
  {
   "cell_type": "markdown",
   "id": "35d7c179",
   "metadata": {},
   "source": [
    "## Qual o valor médio das doações por tipo de doador?\n",
    "\n",
    "Agora é sua vez! A partir dos comandos anteriores, faça uma nova consulta para descobrir a mediana de acordo com o tipo de doador."
   ]
  },
  {
   "cell_type": "code",
   "execution_count": null,
   "id": "8594777e",
   "metadata": {},
   "outputs": [],
   "source": []
  },
  {
   "cell_type": "markdown",
   "id": "60b61cdb",
   "metadata": {},
   "source": [
    "# Entreviste você mesmo"
   ]
  },
  {
   "cell_type": "markdown",
   "id": "14fe967f",
   "metadata": {},
   "source": [
    "Escreva abaixo pelo menos outras três perguntas que podem ser feitas à base de dados. Escreva a pergunta como um comentário acima do código com a consulta em Python."
   ]
  },
  {
   "cell_type": "markdown",
   "id": "4ac5716a",
   "metadata": {},
   "source": []
  }
 ],
 "metadata": {
  "interpreter": {
   "hash": "916dbcbb3f70747c44a77c7bcd40155683ae19c65e1c03b4aa3499c5328201f1"
  },
  "kernelspec": {
   "display_name": "Python 3",
   "language": "python",
   "name": "python3"
  },
  "language_info": {
   "codemirror_mode": {
    "name": "ipython",
    "version": 3
   },
   "file_extension": ".py",
   "mimetype": "text/x-python",
   "name": "python",
   "nbconvert_exporter": "python",
   "pygments_lexer": "ipython3",
   "version": "3.8.8"
  }
 },
 "nbformat": 4,
 "nbformat_minor": 5
}
