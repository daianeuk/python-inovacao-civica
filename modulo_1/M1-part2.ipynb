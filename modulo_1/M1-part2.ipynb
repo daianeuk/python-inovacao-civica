{
 "cells": [
  {
   "cell_type": "markdown",
   "source": [
    "# Escola de Dados - Python para inovação cívica\n",
    "## Módulo 1: Por dentro do python\n",
    "\n",
    "- [Aula 6](#Aula-6:-Carregando-pacotes)\n",
    "- [Aula 7](#Aula-7:-Carregando-tabelas)\n",
    "- [Aula 8](#Aula-8:-Carregando-várias-tabelas)\n",
    "\n",
    "\n",
    "### Aula 6: Carregando pacotes\n",
    "\n",
    "Instalaremos todos os pacotes que usaremos nesse módulo; Pandas, Matplotlib, Numpy, Jupiter Widgets e Pandas Profiling"
   ],
   "metadata": {}
  },
  {
   "cell_type": "code",
   "execution_count": 1,
   "source": [
    "pip install pandas"
   ],
   "outputs": [
    {
     "output_type": "stream",
     "name": "stdout",
     "text": [
      "Requirement already satisfied: pandas in c:\\users\\daniu\\documents\\github\\python-inovacao-civica\\env\\lib\\site-packages (1.3.0)\n",
      "Requirement already satisfied: numpy>=1.17.3 in c:\\users\\daniu\\documents\\github\\python-inovacao-civica\\env\\lib\\site-packages (from pandas) (1.21.1)\n",
      "Requirement already satisfied: python-dateutil>=2.7.3 in c:\\users\\daniu\\documents\\github\\python-inovacao-civica\\env\\lib\\site-packages (from pandas) (2.8.2)\n",
      "Requirement already satisfied: pytz>=2017.3 in c:\\users\\daniu\\documents\\github\\python-inovacao-civica\\env\\lib\\site-packages (from pandas) (2021.1)\n",
      "Requirement already satisfied: six>=1.5 in c:\\users\\daniu\\documents\\github\\python-inovacao-civica\\env\\lib\\site-packages (from python-dateutil>=2.7.3->pandas) (1.16.0)\n",
      "Note: you may need to restart the kernel to use updated packages.\n"
     ]
    }
   ],
   "metadata": {}
  },
  {
   "cell_type": "code",
   "execution_count": 2,
   "source": [
    "pip install matplotlib"
   ],
   "outputs": [
    {
     "output_type": "stream",
     "name": "stdout",
     "text": [
      "Requirement already satisfied: matplotlib in c:\\users\\daniu\\documents\\github\\python-inovacao-civica\\env\\lib\\site-packages (3.4.2)\n",
      "Requirement already satisfied: numpy>=1.16 in c:\\users\\daniu\\documents\\github\\python-inovacao-civica\\env\\lib\\site-packages (from matplotlib) (1.21.1)\n",
      "Requirement already satisfied: pillow>=6.2.0 in c:\\users\\daniu\\documents\\github\\python-inovacao-civica\\env\\lib\\site-packages (from matplotlib) (8.3.1)\n",
      "Requirement already satisfied: python-dateutil>=2.7 in c:\\users\\daniu\\documents\\github\\python-inovacao-civica\\env\\lib\\site-packages (from matplotlib) (2.8.2)\n",
      "Requirement already satisfied: pyparsing>=2.2.1 in c:\\users\\daniu\\documents\\github\\python-inovacao-civica\\env\\lib\\site-packages (from matplotlib) (2.4.7)\n",
      "Requirement already satisfied: kiwisolver>=1.0.1 in c:\\users\\daniu\\documents\\github\\python-inovacao-civica\\env\\lib\\site-packages (from matplotlib) (1.3.1)\n",
      "Requirement already satisfied: cycler>=0.10 in c:\\users\\daniu\\documents\\github\\python-inovacao-civica\\env\\lib\\site-packages (from matplotlib) (0.10.0)\n",
      "Requirement already satisfied: six in c:\\users\\daniu\\documents\\github\\python-inovacao-civica\\env\\lib\\site-packages (from cycler>=0.10->matplotlib) (1.16.0)\n",
      "Note: you may need to restart the kernel to use updated packages.\n"
     ]
    }
   ],
   "metadata": {}
  },
  {
   "cell_type": "code",
   "execution_count": 3,
   "source": [
    "pip install numpy"
   ],
   "outputs": [
    {
     "output_type": "stream",
     "name": "stdout",
     "text": [
      "Requirement already satisfied: numpy in c:\\users\\daniu\\documents\\github\\python-inovacao-civica\\env\\lib\\site-packages (1.21.1)\n",
      "Note: you may need to restart the kernel to use updated packages.\n"
     ]
    }
   ],
   "metadata": {}
  },
  {
   "cell_type": "code",
   "execution_count": 4,
   "source": [
    "pip install ipywidgets"
   ],
   "outputs": [
    {
     "output_type": "stream",
     "name": "stdout",
     "text": [
      "Requirement already satisfied: ipywidgets in c:\\users\\daniu\\documents\\github\\python-inovacao-civica\\env\\lib\\site-packages (7.6.3)\n",
      "Requirement already satisfied: traitlets>=4.3.1 in c:\\users\\daniu\\documents\\github\\python-inovacao-civica\\env\\lib\\site-packages (from ipywidgets) (5.0.5)\n",
      "Requirement already satisfied: ipykernel>=4.5.1 in c:\\users\\daniu\\documents\\github\\python-inovacao-civica\\env\\lib\\site-packages (from ipywidgets) (6.0.3)\n",
      "Requirement already satisfied: ipython>=4.0.0 in c:\\users\\daniu\\documents\\github\\python-inovacao-civica\\env\\lib\\site-packages (from ipywidgets) (7.25.0)\n",
      "Requirement already satisfied: nbformat>=4.2.0 in c:\\users\\daniu\\documents\\github\\python-inovacao-civica\\env\\lib\\site-packages (from ipywidgets) (5.1.3)\n",
      "Requirement already satisfied: jupyterlab-widgets>=1.0.0 in c:\\users\\daniu\\documents\\github\\python-inovacao-civica\\env\\lib\\site-packages (from ipywidgets) (1.0.0)\n",
      "Requirement already satisfied: widgetsnbextension~=3.5.0 in c:\\users\\daniu\\documents\\github\\python-inovacao-civica\\env\\lib\\site-packages (from ipywidgets) (3.5.1)\n",
      "Requirement already satisfied: debugpy<2.0,>=1.0.0 in c:\\users\\daniu\\documents\\github\\python-inovacao-civica\\env\\lib\\site-packages (from ipykernel>=4.5.1->ipywidgets) (1.4.1)\n",
      "Requirement already satisfied: tornado<7.0,>=4.2 in c:\\users\\daniu\\documents\\github\\python-inovacao-civica\\env\\lib\\site-packages (from ipykernel>=4.5.1->ipywidgets) (6.1)\n",
      "Requirement already satisfied: jupyter-client<7.0 in c:\\users\\daniu\\documents\\github\\python-inovacao-civica\\env\\lib\\site-packages (from ipykernel>=4.5.1->ipywidgets) (6.1.12)\n",
      "Requirement already satisfied: matplotlib-inline<0.2.0,>=0.1.0 in c:\\users\\daniu\\documents\\github\\python-inovacao-civica\\env\\lib\\site-packages (from ipykernel>=4.5.1->ipywidgets) (0.1.2)\n",
      "Requirement already satisfied: setuptools>=18.5 in c:\\users\\daniu\\documents\\github\\python-inovacao-civica\\env\\lib\\site-packages (from ipython>=4.0.0->ipywidgets) (56.0.0)\n",
      "Requirement already satisfied: pickleshare in c:\\users\\daniu\\documents\\github\\python-inovacao-civica\\env\\lib\\site-packages (from ipython>=4.0.0->ipywidgets) (0.7.5)\n",
      "Requirement already satisfied: pygments in c:\\users\\daniu\\documents\\github\\python-inovacao-civica\\env\\lib\\site-packages (from ipython>=4.0.0->ipywidgets) (2.9.0)\n",
      "Requirement already satisfied: decorator in c:\\users\\daniu\\documents\\github\\python-inovacao-civica\\env\\lib\\site-packages (from ipython>=4.0.0->ipywidgets) (4.4.2)\n",
      "Requirement already satisfied: jedi>=0.16 in c:\\users\\daniu\\documents\\github\\python-inovacao-civica\\env\\lib\\site-packages (from ipython>=4.0.0->ipywidgets) (0.18.0)\n",
      "Requirement already satisfied: prompt-toolkit!=3.0.0,!=3.0.1,<3.1.0,>=2.0.0 in c:\\users\\daniu\\documents\\github\\python-inovacao-civica\\env\\lib\\site-packages (from ipython>=4.0.0->ipywidgets) (3.0.19)\n",
      "Requirement already satisfied: colorama in c:\\users\\daniu\\documents\\github\\python-inovacao-civica\\env\\lib\\site-packages (from ipython>=4.0.0->ipywidgets) (0.4.4)\n",
      "Requirement already satisfied: backcall in c:\\users\\daniu\\documents\\github\\python-inovacao-civica\\env\\lib\\site-packages (from ipython>=4.0.0->ipywidgets) (0.2.0)\n",
      "Requirement already satisfied: parso<0.9.0,>=0.8.0 in c:\\users\\daniu\\documents\\github\\python-inovacao-civica\\env\\lib\\site-packages (from jedi>=0.16->ipython>=4.0.0->ipywidgets) (0.8.2)\n",
      "Requirement already satisfied: pyzmq>=13 in c:\\users\\daniu\\documents\\github\\python-inovacao-civica\\env\\lib\\site-packages (from jupyter-client<7.0->ipykernel>=4.5.1->ipywidgets) (22.1.0)\n",
      "Requirement already satisfied: jupyter-core>=4.6.0 in c:\\users\\daniu\\documents\\github\\python-inovacao-civica\\env\\lib\\site-packages (from jupyter-client<7.0->ipykernel>=4.5.1->ipywidgets) (4.7.1)\n",
      "Requirement already satisfied: python-dateutil>=2.1 in c:\\users\\daniu\\documents\\github\\python-inovacao-civica\\env\\lib\\site-packages (from jupyter-client<7.0->ipykernel>=4.5.1->ipywidgets) (2.8.2)\n",
      "Requirement already satisfied: pywin32>=1.0 in c:\\users\\daniu\\documents\\github\\python-inovacao-civica\\env\\lib\\site-packages (from jupyter-core>=4.6.0->jupyter-client<7.0->ipykernel>=4.5.1->ipywidgets) (301)\n",
      "Requirement already satisfied: ipython-genutils in c:\\users\\daniu\\documents\\github\\python-inovacao-civica\\env\\lib\\site-packages (from nbformat>=4.2.0->ipywidgets) (0.2.0)\n",
      "Requirement already satisfied: jsonschema!=2.5.0,>=2.4 in c:\\users\\daniu\\documents\\github\\python-inovacao-civica\\env\\lib\\site-packages (from nbformat>=4.2.0->ipywidgets) (3.2.0)\n",
      "Requirement already satisfied: pyrsistent>=0.14.0 in c:\\users\\daniu\\documents\\github\\python-inovacao-civica\\env\\lib\\site-packages (from jsonschema!=2.5.0,>=2.4->nbformat>=4.2.0->ipywidgets) (0.18.0)\n",
      "Requirement already satisfied: attrs>=17.4.0 in c:\\users\\daniu\\documents\\github\\python-inovacao-civica\\env\\lib\\site-packages (from jsonschema!=2.5.0,>=2.4->nbformat>=4.2.0->ipywidgets) (21.2.0)\n",
      "Requirement already satisfied: six>=1.11.0 in c:\\users\\daniu\\documents\\github\\python-inovacao-civica\\env\\lib\\site-packages (from jsonschema!=2.5.0,>=2.4->nbformat>=4.2.0->ipywidgets) (1.16.0)\n",
      "Requirement already satisfied: wcwidth in c:\\users\\daniu\\documents\\github\\python-inovacao-civica\\env\\lib\\site-packages (from prompt-toolkit!=3.0.0,!=3.0.1,<3.1.0,>=2.0.0->ipython>=4.0.0->ipywidgets) (0.2.5)\n",
      "Requirement already satisfied: notebook>=4.4.1 in c:\\users\\daniu\\documents\\github\\python-inovacao-civica\\env\\lib\\site-packages (from widgetsnbextension~=3.5.0->ipywidgets) (6.4.0)\n",
      "Requirement already satisfied: argon2-cffi in c:\\users\\daniu\\documents\\github\\python-inovacao-civica\\env\\lib\\site-packages (from notebook>=4.4.1->widgetsnbextension~=3.5.0->ipywidgets) (20.1.0)\n",
      "Requirement already satisfied: jinja2 in c:\\users\\daniu\\documents\\github\\python-inovacao-civica\\env\\lib\\site-packages (from notebook>=4.4.1->widgetsnbextension~=3.5.0->ipywidgets) (3.0.1)\n",
      "Requirement already satisfied: nbconvert in c:\\users\\daniu\\documents\\github\\python-inovacao-civica\\env\\lib\\site-packages (from notebook>=4.4.1->widgetsnbextension~=3.5.0->ipywidgets) (6.1.0)\n",
      "Requirement already satisfied: Send2Trash>=1.5.0 in c:\\users\\daniu\\documents\\github\\python-inovacao-civica\\env\\lib\\site-packages (from notebook>=4.4.1->widgetsnbextension~=3.5.0->ipywidgets) (1.7.1)\n",
      "Requirement already satisfied: terminado>=0.8.3 in c:\\users\\daniu\\documents\\github\\python-inovacao-civica\\env\\lib\\site-packages (from notebook>=4.4.1->widgetsnbextension~=3.5.0->ipywidgets) (0.10.1)\n",
      "Requirement already satisfied: prometheus-client in c:\\users\\daniu\\documents\\github\\python-inovacao-civica\\env\\lib\\site-packages (from notebook>=4.4.1->widgetsnbextension~=3.5.0->ipywidgets) (0.11.0)\n",
      "Requirement already satisfied: pywinpty>=1.1.0 in c:\\users\\daniu\\documents\\github\\python-inovacao-civica\\env\\lib\\site-packages (from terminado>=0.8.3->notebook>=4.4.1->widgetsnbextension~=3.5.0->ipywidgets) (1.1.3)\n",
      "Requirement already satisfied: cffi>=1.0.0 in c:\\users\\daniu\\documents\\github\\python-inovacao-civica\\env\\lib\\site-packages (from argon2-cffi->notebook>=4.4.1->widgetsnbextension~=3.5.0->ipywidgets) (1.14.6)\n",
      "Requirement already satisfied: pycparser in c:\\users\\daniu\\documents\\github\\python-inovacao-civica\\env\\lib\\site-packages (from cffi>=1.0.0->argon2-cffi->notebook>=4.4.1->widgetsnbextension~=3.5.0->ipywidgets) (2.20)\n",
      "Requirement already satisfied: MarkupSafe>=2.0 in c:\\users\\daniu\\documents\\github\\python-inovacao-civica\\env\\lib\\site-packages (from jinja2->notebook>=4.4.1->widgetsnbextension~=3.5.0->ipywidgets) (2.0.1)\n",
      "Requirement already satisfied: mistune<2,>=0.8.1 in c:\\users\\daniu\\documents\\github\\python-inovacao-civica\\env\\lib\\site-packages (from nbconvert->notebook>=4.4.1->widgetsnbextension~=3.5.0->ipywidgets) (0.8.4)\n",
      "Requirement already satisfied: entrypoints>=0.2.2 in c:\\users\\daniu\\documents\\github\\python-inovacao-civica\\env\\lib\\site-packages (from nbconvert->notebook>=4.4.1->widgetsnbextension~=3.5.0->ipywidgets) (0.3)\n",
      "Requirement already satisfied: testpath in c:\\users\\daniu\\documents\\github\\python-inovacao-civica\\env\\lib\\site-packages (from nbconvert->notebook>=4.4.1->widgetsnbextension~=3.5.0->ipywidgets) (0.5.0)\n",
      "Requirement already satisfied: pandocfilters>=1.4.1 in c:\\users\\daniu\\documents\\github\\python-inovacao-civica\\env\\lib\\site-packages (from nbconvert->notebook>=4.4.1->widgetsnbextension~=3.5.0->ipywidgets) (1.4.3)\n",
      "Requirement already satisfied: defusedxml in c:\\users\\daniu\\documents\\github\\python-inovacao-civica\\env\\lib\\site-packages (from nbconvert->notebook>=4.4.1->widgetsnbextension~=3.5.0->ipywidgets) (0.7.1)\n",
      "Requirement already satisfied: bleach in c:\\users\\daniu\\documents\\github\\python-inovacao-civica\\env\\lib\\site-packages (from nbconvert->notebook>=4.4.1->widgetsnbextension~=3.5.0->ipywidgets) (3.3.1)\n",
      "Requirement already satisfied: nbclient<0.6.0,>=0.5.0 in c:\\users\\daniu\\documents\\github\\python-inovacao-civica\\env\\lib\\site-packages (from nbconvert->notebook>=4.4.1->widgetsnbextension~=3.5.0->ipywidgets) (0.5.3)\n",
      "Requirement already satisfied: jupyterlab-pygments in c:\\users\\daniu\\documents\\github\\python-inovacao-civica\\env\\lib\\site-packages (from nbconvert->notebook>=4.4.1->widgetsnbextension~=3.5.0->ipywidgets) (0.1.2)\n",
      "Requirement already satisfied: async-generator in c:\\users\\daniu\\documents\\github\\python-inovacao-civica\\env\\lib\\site-packages (from nbclient<0.6.0,>=0.5.0->nbconvert->notebook>=4.4.1->widgetsnbextension~=3.5.0->ipywidgets) (1.10)\n",
      "Requirement already satisfied: nest-asyncio in c:\\users\\daniu\\documents\\github\\python-inovacao-civica\\env\\lib\\site-packages (from nbclient<0.6.0,>=0.5.0->nbconvert->notebook>=4.4.1->widgetsnbextension~=3.5.0->ipywidgets) (1.5.1)\n",
      "Requirement already satisfied: webencodings in c:\\users\\daniu\\documents\\github\\python-inovacao-civica\\env\\lib\\site-packages (from bleach->nbconvert->notebook>=4.4.1->widgetsnbextension~=3.5.0->ipywidgets) (0.5.1)\n",
      "Requirement already satisfied: packaging in c:\\users\\daniu\\documents\\github\\python-inovacao-civica\\env\\lib\\site-packages (from bleach->nbconvert->notebook>=4.4.1->widgetsnbextension~=3.5.0->ipywidgets) (21.0)\n",
      "Requirement already satisfied: pyparsing>=2.0.2 in c:\\users\\daniu\\documents\\github\\python-inovacao-civica\\env\\lib\\site-packages (from packaging->bleach->nbconvert->notebook>=4.4.1->widgetsnbextension~=3.5.0->ipywidgets) (2.4.7)\n",
      "Note: you may need to restart the kernel to use updated packages.\n"
     ]
    }
   ],
   "metadata": {}
  },
  {
   "cell_type": "code",
   "execution_count": 5,
   "source": [
    "pip install pandas-profiling"
   ],
   "outputs": [
    {
     "output_type": "stream",
     "name": "stdout",
     "text": [
      "Requirement already satisfied: pandas-profiling in c:\\users\\daniu\\documents\\github\\python-inovacao-civica\\env\\lib\\site-packages (3.0.0)\n",
      "Requirement already satisfied: scipy>=1.4.1 in c:\\users\\daniu\\documents\\github\\python-inovacao-civica\\env\\lib\\site-packages (from pandas-profiling) (1.7.0)\n",
      "Requirement already satisfied: jinja2>=2.11.1 in c:\\users\\daniu\\documents\\github\\python-inovacao-civica\\env\\lib\\site-packages (from pandas-profiling) (3.0.1)\n",
      "Requirement already satisfied: visions[type_image_path]==0.7.1 in c:\\users\\daniu\\documents\\github\\python-inovacao-civica\\env\\lib\\site-packages (from pandas-profiling) (0.7.1)\n",
      "Requirement already satisfied: phik>=0.11.1 in c:\\users\\daniu\\documents\\github\\python-inovacao-civica\\env\\lib\\site-packages (from pandas-profiling) (0.11.2)\n",
      "Requirement already satisfied: seaborn>=0.10.1 in c:\\users\\daniu\\documents\\github\\python-inovacao-civica\\env\\lib\\site-packages (from pandas-profiling) (0.11.1)\n",
      "Requirement already satisfied: numpy>=1.16.0 in c:\\users\\daniu\\documents\\github\\python-inovacao-civica\\env\\lib\\site-packages (from pandas-profiling) (1.21.1)\n",
      "Requirement already satisfied: matplotlib>=3.2.0 in c:\\users\\daniu\\documents\\github\\python-inovacao-civica\\env\\lib\\site-packages (from pandas-profiling) (3.4.2)\n",
      "Requirement already satisfied: joblib in c:\\users\\daniu\\documents\\github\\python-inovacao-civica\\env\\lib\\site-packages (from pandas-profiling) (1.0.1)\n",
      "Requirement already satisfied: PyYAML>=5.0.0 in c:\\users\\daniu\\documents\\github\\python-inovacao-civica\\env\\lib\\site-packages (from pandas-profiling) (5.4.1)\n",
      "Requirement already satisfied: pandas!=1.0.0,!=1.0.1,!=1.0.2,!=1.1.0,>=0.25.3 in c:\\users\\daniu\\documents\\github\\python-inovacao-civica\\env\\lib\\site-packages (from pandas-profiling) (1.3.0)\n",
      "Requirement already satisfied: pydantic>=1.8.1 in c:\\users\\daniu\\documents\\github\\python-inovacao-civica\\env\\lib\\site-packages (from pandas-profiling) (1.8.2)\n",
      "Requirement already satisfied: htmlmin>=0.1.12 in c:\\users\\daniu\\documents\\github\\python-inovacao-civica\\env\\lib\\site-packages (from pandas-profiling) (0.1.12)\n",
      "Requirement already satisfied: requests>=2.24.0 in c:\\users\\daniu\\documents\\github\\python-inovacao-civica\\env\\lib\\site-packages (from pandas-profiling) (2.26.0)\n",
      "Requirement already satisfied: tqdm>=4.48.2 in c:\\users\\daniu\\documents\\github\\python-inovacao-civica\\env\\lib\\site-packages (from pandas-profiling) (4.61.2)\n",
      "Requirement already satisfied: missingno>=0.4.2 in c:\\users\\daniu\\documents\\github\\python-inovacao-civica\\env\\lib\\site-packages (from pandas-profiling) (0.5.0)\n",
      "Requirement already satisfied: tangled-up-in-unicode==0.1.0 in c:\\users\\daniu\\documents\\github\\python-inovacao-civica\\env\\lib\\site-packages (from pandas-profiling) (0.1.0)\n",
      "Requirement already satisfied: multimethod==1.4 in c:\\users\\daniu\\documents\\github\\python-inovacao-civica\\env\\lib\\site-packages (from visions[type_image_path]==0.7.1->pandas-profiling) (1.4)\n",
      "Requirement already satisfied: bottleneck in c:\\users\\daniu\\documents\\github\\python-inovacao-civica\\env\\lib\\site-packages (from visions[type_image_path]==0.7.1->pandas-profiling) (1.3.2)\n",
      "Requirement already satisfied: networkx>=2.4 in c:\\users\\daniu\\documents\\github\\python-inovacao-civica\\env\\lib\\site-packages (from visions[type_image_path]==0.7.1->pandas-profiling) (2.5.1)\n",
      "Requirement already satisfied: attrs>=19.3.0 in c:\\users\\daniu\\documents\\github\\python-inovacao-civica\\env\\lib\\site-packages (from visions[type_image_path]==0.7.1->pandas-profiling) (21.2.0)\n",
      "Requirement already satisfied: imagehash in c:\\users\\daniu\\documents\\github\\python-inovacao-civica\\env\\lib\\site-packages (from visions[type_image_path]==0.7.1->pandas-profiling) (4.2.1)\n",
      "Requirement already satisfied: Pillow in c:\\users\\daniu\\documents\\github\\python-inovacao-civica\\env\\lib\\site-packages (from visions[type_image_path]==0.7.1->pandas-profiling) (8.3.1)\n",
      "Requirement already satisfied: MarkupSafe>=2.0 in c:\\users\\daniu\\documents\\github\\python-inovacao-civica\\env\\lib\\site-packages (from jinja2>=2.11.1->pandas-profiling) (2.0.1)\n",
      "Requirement already satisfied: kiwisolver>=1.0.1 in c:\\users\\daniu\\documents\\github\\python-inovacao-civica\\env\\lib\\site-packages (from matplotlib>=3.2.0->pandas-profiling) (1.3.1)\n",
      "Requirement already satisfied: cycler>=0.10 in c:\\users\\daniu\\documents\\github\\python-inovacao-civica\\env\\lib\\site-packages (from matplotlib>=3.2.0->pandas-profiling) (0.10.0)\n",
      "Requirement already satisfied: python-dateutil>=2.7 in c:\\users\\daniu\\documents\\github\\python-inovacao-civica\\env\\lib\\site-packages (from matplotlib>=3.2.0->pandas-profiling) (2.8.2)\n",
      "Requirement already satisfied: pyparsing>=2.2.1 in c:\\users\\daniu\\documents\\github\\python-inovacao-civica\\env\\lib\\site-packages (from matplotlib>=3.2.0->pandas-profiling) (2.4.7)\n",
      "Requirement already satisfied: six in c:\\users\\daniu\\documents\\github\\python-inovacao-civica\\env\\lib\\site-packages (from cycler>=0.10->matplotlib>=3.2.0->pandas-profiling) (1.16.0)\n",
      "Requirement already satisfied: decorator<5,>=4.3 in c:\\users\\daniu\\documents\\github\\python-inovacao-civica\\env\\lib\\site-packages (from networkx>=2.4->visions[type_image_path]==0.7.1->pandas-profiling) (4.4.2)\n",
      "Requirement already satisfied: pytz>=2017.3 in c:\\users\\daniu\\documents\\github\\python-inovacao-civica\\env\\lib\\site-packages (from pandas!=1.0.0,!=1.0.1,!=1.0.2,!=1.1.0,>=0.25.3->pandas-profiling) (2021.1)\n",
      "Requirement already satisfied: typing-extensions>=3.7.4.3 in c:\\users\\daniu\\documents\\github\\python-inovacao-civica\\env\\lib\\site-packages (from pydantic>=1.8.1->pandas-profiling) (3.10.0.0)\n",
      "Requirement already satisfied: charset-normalizer~=2.0.0 in c:\\users\\daniu\\documents\\github\\python-inovacao-civica\\env\\lib\\site-packages (from requests>=2.24.0->pandas-profiling) (2.0.3)\n",
      "Requirement already satisfied: idna<4,>=2.5 in c:\\users\\daniu\\documents\\github\\python-inovacao-civica\\env\\lib\\site-packages (from requests>=2.24.0->pandas-profiling) (3.2)\n",
      "Requirement already satisfied: certifi>=2017.4.17 in c:\\users\\daniu\\documents\\github\\python-inovacao-civica\\env\\lib\\site-packages (from requests>=2.24.0->pandas-profiling) (2021.5.30)\n",
      "Requirement already satisfied: urllib3<1.27,>=1.21.1 in c:\\users\\daniu\\documents\\github\\python-inovacao-civica\\env\\lib\\site-packages (from requests>=2.24.0->pandas-profiling) (1.26.6)\n",
      "Requirement already satisfied: colorama in c:\\users\\daniu\\documents\\github\\python-inovacao-civica\\env\\lib\\site-packages (from tqdm>=4.48.2->pandas-profiling) (0.4.4)\n",
      "Requirement already satisfied: PyWavelets in c:\\users\\daniu\\documents\\github\\python-inovacao-civica\\env\\lib\\site-packages (from imagehash->visions[type_image_path]==0.7.1->pandas-profiling) (1.1.1)\n",
      "Note: you may need to restart the kernel to use updated packages.\n"
     ]
    }
   ],
   "metadata": {}
  },
  {
   "cell_type": "markdown",
   "source": [
    "A instalação é só realizada 1 vez, mas a importação das bibliotecas deve ocorrer no inicío do código, como na próxima linha:"
   ],
   "metadata": {}
  },
  {
   "cell_type": "code",
   "execution_count": 6,
   "source": [
    "import pandas as pd"
   ],
   "outputs": [],
   "metadata": {}
  },
  {
   "cell_type": "markdown",
   "source": [
    "### Aula 7: Carregando tabela\n",
    "Vamos aprender a ler arquivos do tipo CSV e converter para dataframe Pandas.\n",
    "\n",
    "Os dados que usaremos nesse notebook pode ser encontrado em: [TSE. Candidaturas em 2020](https://www.tse.jus.br/eleicoes/estatisticas/repositorio-de-dados-eleitorais-1)"
   ],
   "metadata": {}
  },
  {
   "cell_type": "code",
   "execution_count": 14,
   "source": [
    "candidaturas_pe = pd.read_csv('C:/Users/daniu/Documents/GitHub/python-inovacao-civica/modulo_1/desafios/desafio_1/consulta_cand_2020_PE_desafio1.csv', sep=',', encoding='latin_1')"
   ],
   "outputs": [],
   "metadata": {}
  },
  {
   "cell_type": "code",
   "execution_count": 15,
   "source": [
    "# o comando abaixo retira a limitação da quantidade de colunas impressa na tela\r\n",
    "\r\n",
    "pd.options.display.max_columns = None"
   ],
   "outputs": [],
   "metadata": {}
  },
  {
   "cell_type": "code",
   "execution_count": 16,
   "source": [
    "candidaturas_pe.head()"
   ],
   "outputs": [
    {
     "output_type": "execute_result",
     "data": {
      "text/plain": [
       "   ANO_ELEICAO                    NM_UE  DS_CARGO  \\\n",
       "0         2020                GAMELEIRA  VEREADOR   \n",
       "1         2020  CABO DE SANTO AGOSTINHO  VEREADOR   \n",
       "2         2020               TUPARETAMA  VEREADOR   \n",
       "3         2020                  GRAVATÁ  VEREADOR   \n",
       "4         2020                  SERRITA  VEREADOR   \n",
       "\n",
       "                       NM_CANDIDATO SG_PARTIDO  NR_IDADE_DATA_POSSE  \\\n",
       "0  ANDREIA LÚCIA DE FREITAS PEIXOTO         PP                   52   \n",
       "1              MIZAEL JOSÉ DA SILVA        PDT                   40   \n",
       "2           CARLOS ANTONIO NOGUEIRA        PSB                   53   \n",
       "3              JOSÉ SOARES DA SILVA        PTC                   43   \n",
       "4            MARIA ZULEIDE DOMINGOS        PSD                   48   \n",
       "\n",
       "   CD_GENERO  DS_GENERO DS_COR_RACA  VR_DESPESA_MAX_CAMPANHA  \n",
       "0          4   FEMININO      BRANCA                 12307.75  \n",
       "1          2  MASCULINO       PARDA                109902.99  \n",
       "2          2  MASCULINO       PARDA                 12307.75  \n",
       "3          2  MASCULINO      BRANCA                134612.46  \n",
       "4          4   FEMININO       PARDA                 12307.75  "
      ],
      "text/html": [
       "<div>\n",
       "<style scoped>\n",
       "    .dataframe tbody tr th:only-of-type {\n",
       "        vertical-align: middle;\n",
       "    }\n",
       "\n",
       "    .dataframe tbody tr th {\n",
       "        vertical-align: top;\n",
       "    }\n",
       "\n",
       "    .dataframe thead th {\n",
       "        text-align: right;\n",
       "    }\n",
       "</style>\n",
       "<table border=\"1\" class=\"dataframe\">\n",
       "  <thead>\n",
       "    <tr style=\"text-align: right;\">\n",
       "      <th></th>\n",
       "      <th>ANO_ELEICAO</th>\n",
       "      <th>NM_UE</th>\n",
       "      <th>DS_CARGO</th>\n",
       "      <th>NM_CANDIDATO</th>\n",
       "      <th>SG_PARTIDO</th>\n",
       "      <th>NR_IDADE_DATA_POSSE</th>\n",
       "      <th>CD_GENERO</th>\n",
       "      <th>DS_GENERO</th>\n",
       "      <th>DS_COR_RACA</th>\n",
       "      <th>VR_DESPESA_MAX_CAMPANHA</th>\n",
       "    </tr>\n",
       "  </thead>\n",
       "  <tbody>\n",
       "    <tr>\n",
       "      <th>0</th>\n",
       "      <td>2020</td>\n",
       "      <td>GAMELEIRA</td>\n",
       "      <td>VEREADOR</td>\n",
       "      <td>ANDREIA LÚCIA DE FREITAS PEIXOTO</td>\n",
       "      <td>PP</td>\n",
       "      <td>52</td>\n",
       "      <td>4</td>\n",
       "      <td>FEMININO</td>\n",
       "      <td>BRANCA</td>\n",
       "      <td>12307.75</td>\n",
       "    </tr>\n",
       "    <tr>\n",
       "      <th>1</th>\n",
       "      <td>2020</td>\n",
       "      <td>CABO DE SANTO AGOSTINHO</td>\n",
       "      <td>VEREADOR</td>\n",
       "      <td>MIZAEL JOSÉ DA SILVA</td>\n",
       "      <td>PDT</td>\n",
       "      <td>40</td>\n",
       "      <td>2</td>\n",
       "      <td>MASCULINO</td>\n",
       "      <td>PARDA</td>\n",
       "      <td>109902.99</td>\n",
       "    </tr>\n",
       "    <tr>\n",
       "      <th>2</th>\n",
       "      <td>2020</td>\n",
       "      <td>TUPARETAMA</td>\n",
       "      <td>VEREADOR</td>\n",
       "      <td>CARLOS ANTONIO NOGUEIRA</td>\n",
       "      <td>PSB</td>\n",
       "      <td>53</td>\n",
       "      <td>2</td>\n",
       "      <td>MASCULINO</td>\n",
       "      <td>PARDA</td>\n",
       "      <td>12307.75</td>\n",
       "    </tr>\n",
       "    <tr>\n",
       "      <th>3</th>\n",
       "      <td>2020</td>\n",
       "      <td>GRAVATÁ</td>\n",
       "      <td>VEREADOR</td>\n",
       "      <td>JOSÉ SOARES DA SILVA</td>\n",
       "      <td>PTC</td>\n",
       "      <td>43</td>\n",
       "      <td>2</td>\n",
       "      <td>MASCULINO</td>\n",
       "      <td>BRANCA</td>\n",
       "      <td>134612.46</td>\n",
       "    </tr>\n",
       "    <tr>\n",
       "      <th>4</th>\n",
       "      <td>2020</td>\n",
       "      <td>SERRITA</td>\n",
       "      <td>VEREADOR</td>\n",
       "      <td>MARIA ZULEIDE DOMINGOS</td>\n",
       "      <td>PSD</td>\n",
       "      <td>48</td>\n",
       "      <td>4</td>\n",
       "      <td>FEMININO</td>\n",
       "      <td>PARDA</td>\n",
       "      <td>12307.75</td>\n",
       "    </tr>\n",
       "  </tbody>\n",
       "</table>\n",
       "</div>"
      ]
     },
     "metadata": {},
     "execution_count": 16
    }
   ],
   "metadata": {}
  },
  {
   "cell_type": "code",
   "execution_count": 17,
   "source": [
    "# informação sobre o tamanho do dataframe (qnt. linhas, qnt. colunas)\r\n",
    "candidaturas_pe.shape"
   ],
   "outputs": [
    {
     "output_type": "execute_result",
     "data": {
      "text/plain": [
       "(21101, 10)"
      ]
     },
     "metadata": {},
     "execution_count": 17
    }
   ],
   "metadata": {}
  },
  {
   "cell_type": "markdown",
   "source": [
    "## Quantas candidaturas houveram no seu município nas eleições de 2020?"
   ],
   "metadata": {}
  },
  {
   "cell_type": "code",
   "execution_count": null,
   "source": [],
   "outputs": [],
   "metadata": {}
  },
  {
   "cell_type": "markdown",
   "source": [
    "## Aula 8: Carregando várias tabelas\n",
    "\n",
    "É possível ler vários arquivos CSV e converter de uma só vez para dataframe Pandas. Para isso, além de usar as técnicas vistas nas aulas anteriores, importaremos a biblioteca glob."
   ],
   "metadata": {}
  },
  {
   "cell_type": "code",
   "execution_count": 11,
   "source": [
    "import glob"
   ],
   "outputs": [],
   "metadata": {}
  },
  {
   "cell_type": "code",
   "execution_count": 12,
   "source": [
    "dados_todos_estados = glob.glob('../conjunto_dados/consulta_*.csv')\r\n",
    "print(dados_todos_estados)"
   ],
   "outputs": [
    {
     "output_type": "stream",
     "name": "stdout",
     "text": [
      "['../conjunto_dados/consulta_cand_2020_PI.csv', '../conjunto_dados/consulta_cand_2020_MT.csv', '../conjunto_dados/consulta_cand_2020_PB.csv', '../conjunto_dados/consulta_cand_2020_PA.csv', '../conjunto_dados/consulta_cand_2020_SP.csv', '../conjunto_dados/consulta_cand_2020_AL.csv', '../conjunto_dados/consulta_cand_2020_PE.csv', '../conjunto_dados/consulta_cand_2020_RR.csv', '../conjunto_dados/consulta_cand_2020_MS.csv', '../conjunto_dados/consulta_cand_2020_AP.csv', '../conjunto_dados/consulta_cand_2020_MG.csv', '../conjunto_dados/consulta_cand_2020_PR.csv', '../conjunto_dados/consulta_cand_2020_ES.csv', '../conjunto_dados/consulta_cand_2020_RJ.csv', '../conjunto_dados/consulta_cand_2020_MA.csv', '../conjunto_dados/consulta_cand_2020_AC.csv', '../conjunto_dados/consulta_cand_2020_RN.csv', '../conjunto_dados/consulta_cand_2020_CE.csv', '../conjunto_dados/consulta_cand_2020_RS.csv', '../conjunto_dados/consulta_cand_2020_SE.csv', '../conjunto_dados/consulta_cand_2020_GO.csv', '../conjunto_dados/consulta_cand_2020_BA.csv', '../conjunto_dados/consulta_cand_2020_AM.csv', '../conjunto_dados/consulta_cand_2020_TO.csv', '../conjunto_dados/consulta_cand_2020_SC.csv', '../conjunto_dados/consulta_cand_2020_RO.csv']\n"
     ]
    }
   ],
   "metadata": {}
  },
  {
   "cell_type": "markdown",
   "source": [
    "Vamos ler todos os arquivos e reunir em uma lista."
   ],
   "metadata": {}
  },
  {
   "cell_type": "code",
   "execution_count": 13,
   "source": [
    "lista_df = []\r\n",
    "\r\n",
    "for dados_estado in dados_todos_estados:\r\n",
    "    df_estado = pd.read_csv(dados_estado, sep=';', encoding='latin_1')\r\n",
    "    lista_df.append(df_estado)"
   ],
   "outputs": [],
   "metadata": {}
  },
  {
   "cell_type": "markdown",
   "source": [
    "Com o método `pd.concat` poderemos reunir os dataframes de cada estado em um único"
   ],
   "metadata": {}
  },
  {
   "cell_type": "code",
   "execution_count": 14,
   "source": [
    "df_completo = pd.concat(lista_df, axis=0, ignore_index=True)\r\n",
    "df_completo.shape"
   ],
   "outputs": [
    {
     "output_type": "execute_result",
     "data": {
      "text/plain": [
       "(557842, 63)"
      ]
     },
     "metadata": {},
     "execution_count": 14
    }
   ],
   "metadata": {}
  }
 ],
 "metadata": {
  "kernelspec": {
   "name": "python3",
   "display_name": "Python 3.9.6 64-bit ('env': venv)"
  },
  "language_info": {
   "codemirror_mode": {
    "name": "ipython",
    "version": 3
   },
   "file_extension": ".py",
   "mimetype": "text/x-python",
   "name": "python",
   "nbconvert_exporter": "python",
   "pygments_lexer": "ipython3",
   "version": "3.9.6"
  },
  "interpreter": {
   "hash": "5188cabf8c9629e753151a9c1a54788366c85c2f3ea2895b7d29c45897b506d0"
  }
 },
 "nbformat": 4,
 "nbformat_minor": 5
}